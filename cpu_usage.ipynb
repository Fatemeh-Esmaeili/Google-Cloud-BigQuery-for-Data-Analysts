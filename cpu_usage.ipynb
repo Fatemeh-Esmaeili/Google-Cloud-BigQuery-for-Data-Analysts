{
 "cells": [
  {
   "cell_type": "code",
   "execution_count": 1,
   "id": "e50c84e4-1ff7-4db5-814c-e3569b75b656",
   "metadata": {},
   "outputs": [
    {
     "name": "stdout",
     "output_type": "stream",
     "text": [
      "Everything ok\n"
     ]
    }
   ],
   "source": [
    "import psutil\n",
    "\n",
    "def check_cpu_usage(percent):\n",
    "\n",
    "    usage = psutil.cpu_percent()\n",
    "\n",
    "    return usage < percent\n",
    "\n",
    "if not check_cpu_usage(75):\n",
    "\n",
    "    print(\"ERROR! CPU is overloaded\")\n",
    "\n",
    "else:\n",
    "\n",
    "\n",
    "    print(\"Everything ok\")"
   ]
  },
  {
   "cell_type": "code",
   "execution_count": null,
   "id": "ea6f8799-41d1-491c-aaa4-1b02309de215",
   "metadata": {},
   "outputs": [],
   "source": []
  }
 ],
 "metadata": {
  "kernelspec": {
   "display_name": "Python 3 (ipykernel)",
   "language": "python",
   "name": "python3"
  },
  "language_info": {
   "codemirror_mode": {
    "name": "ipython",
    "version": 3
   },
   "file_extension": ".py",
   "mimetype": "text/x-python",
   "name": "python",
   "nbconvert_exporter": "python",
   "pygments_lexer": "ipython3",
   "version": "3.11.7"
  }
 },
 "nbformat": 4,
 "nbformat_minor": 5
}
